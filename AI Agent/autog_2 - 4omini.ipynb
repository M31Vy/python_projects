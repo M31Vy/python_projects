{
 "cells": [
  {
   "cell_type": "code",
   "execution_count": 1,
   "id": "6ea0b213-1759-4b98-bc3f-a14b4f725e2f",
   "metadata": {},
   "outputs": [],
   "source": [
    "llm_config={\"model\": \"gpt-4o-mini\"}"
   ]
  },
  {
   "cell_type": "code",
   "execution_count": 2,
   "id": "81d08205-5883-482e-94a3-5ae0c382fdbb",
   "metadata": {},
   "outputs": [],
   "source": [
    "from autogen import ConversableAgent"
   ]
  },
  {
   "cell_type": "code",
   "execution_count": 3,
   "id": "f89a3366-4456-419e-ae9b-89ebd5909641",
   "metadata": {},
   "outputs": [],
   "source": [
    "onboarding_personal_information_agent = ConversableAgent(\n",
    "    name=\"Onboarding Personal Information Agent\",\n",
    "    system_message='''You are a helpful customer onboarding agent,\n",
    "    you are here to help new customers get started with our product.\n",
    "    Your job is to gather customer's name and location.\n",
    "    Do not ask for other information. Return 'TERMINATE' \n",
    "    when you have gathered all the information.''',\n",
    "    llm_config=llm_config,\n",
    "    code_execution_config=False,\n",
    "    human_input_mode=\"NEVER\",\n",
    ")"
   ]
  },
  {
   "cell_type": "code",
   "execution_count": 4,
   "id": "be33e6e5-f44b-4ed9-b23a-6ac69857e04f",
   "metadata": {},
   "outputs": [],
   "source": [
    "onboarding_topic_preference_agent = ConversableAgent(\n",
    "    name=\"Onboarding Topic preference Agent\",\n",
    "    system_message='''You are a helpful customer onboarding agent,\n",
    "    you are here to help new customers get started with our product.\n",
    "    Your job is to gather customer's preferences on news topics.\n",
    "    Do not ask for other information.\n",
    "    Return 'TERMINATE' when you have gathered all the information.''',\n",
    "    llm_config=llm_config,\n",
    "    code_execution_config=False,\n",
    "    human_input_mode=\"NEVER\",\n",
    ")"
   ]
  },
  {
   "cell_type": "code",
   "execution_count": 5,
   "id": "3cebda04-3f8b-4649-89c9-6684037f5e59",
   "metadata": {},
   "outputs": [],
   "source": [
    "customer_engagement_agent = ConversableAgent(\n",
    "    name=\"Customer Engagement Agent\",\n",
    "    system_message='''You are a helpful customer service agent\n",
    "    here to provide fun for the customer based on the user's\n",
    "    personal information and topic preferences.\n",
    "    This could include fun facts, jokes, or interesting stories.\n",
    "    Make sure to make it engaging and fun!\n",
    "    Return 'TERMINATE' when you are done.''',\n",
    "    llm_config=llm_config,\n",
    "    code_execution_config=False,\n",
    "    human_input_mode=\"NEVER\",\n",
    "    is_termination_msg=lambda msg: \"terminate\" in msg.get(\"content\").lower(),\n",
    ")"
   ]
  },
  {
   "cell_type": "code",
   "execution_count": 6,
   "id": "79252187-f888-4d2d-9329-9f7de7d8849d",
   "metadata": {},
   "outputs": [],
   "source": [
    "customer_proxy_agent = ConversableAgent(\n",
    "    name=\"customer_proxy_agent\",\n",
    "    llm_config=False,\n",
    "    code_execution_config=False,\n",
    "    human_input_mode=\"ALWAYS\",\n",
    "    is_termination_msg=lambda msg: \"terminate\" in msg.get(\"content\").lower(),\n",
    ")"
   ]
  },
  {
   "cell_type": "code",
   "execution_count": 7,
   "id": "3722f862-52fa-464c-b331-8bc4c8462361",
   "metadata": {},
   "outputs": [],
   "source": [
    "chats = [\n",
    "    {\n",
    "        \"sender\": onboarding_personal_information_agent,\n",
    "        \"recipient\": customer_proxy_agent,\n",
    "        \"message\": \n",
    "            \"Hello, I'm here to help you get started with our product.\"\n",
    "            \"Could you tell me your name and location?\",\n",
    "        \"summary_method\": \"reflection_with_llm\",\n",
    "        \"summary_args\": {\n",
    "            \"summary_prompt\" : \"Return the customer information \"\n",
    "                             \"into as JSON object only: \"\n",
    "                             \"{'name': '', 'location': ''}\",\n",
    "        },\n",
    "        \"max_turns\": 2,\n",
    "        \"clear_history\" : True\n",
    "    },\n",
    "    {\n",
    "        \"sender\": onboarding_topic_preference_agent,\n",
    "        \"recipient\": customer_proxy_agent,\n",
    "        \"message\": \n",
    "                \"Great! Could you tell me what topics you are \"\n",
    "                \"interested in reading about?\",\n",
    "        \"summary_method\": \"reflection_with_llm\",\n",
    "        \"max_turns\": 1,\n",
    "        \"clear_history\" : False\n",
    "    },\n",
    "    {\n",
    "        \"sender\": customer_proxy_agent,\n",
    "        \"recipient\": customer_engagement_agent,\n",
    "        \"message\": \"Let's find something fun to read.\",\n",
    "        \"max_turns\": 1,\n",
    "        \"summary_method\": \"reflection_with_llm\",\n",
    "    },\n",
    "]"
   ]
  },
  {
   "cell_type": "code",
   "execution_count": 8,
   "id": "213c0355-8e1a-420b-b5f0-c4a7419ce030",
   "metadata": {},
   "outputs": [
    {
     "name": "stdout",
     "output_type": "stream",
     "text": [
      "\u001b[34m\n",
      "********************************************************************************\u001b[0m\n",
      "\u001b[34mStarting a new chat....\u001b[0m\n",
      "\u001b[34m\n",
      "********************************************************************************\u001b[0m\n",
      "\u001b[33mOnboarding Personal Information Agent\u001b[0m (to customer_proxy_agent):\n",
      "\n",
      "Hello, I'm here to help you get started with our product.Could you tell me your name and location?\n",
      "\n",
      "--------------------------------------------------------------------------------\n"
     ]
    },
    {
     "name": "stderr",
     "output_type": "stream",
     "text": [
      "D:\\python_work\\.venv_notebbook_6.4.12\\Lib\\site-packages\\autogen\\agentchat\\chat.py:47: UserWarning: Repetitive recipients detected: The chat history will be cleared by default if a recipient appears more than once. To retain the chat history, please set 'clear_history=False' in the configuration of the repeating agent.\n",
      "  warnings.warn(\n"
     ]
    },
    {
     "name": "stdin",
     "output_type": "stream",
     "text": [
      "Provide feedback to Onboarding Personal Information Agent. Press enter to skip and use auto-reply, or type 'exit' to end the conversation:  New York\n"
     ]
    },
    {
     "name": "stdout",
     "output_type": "stream",
     "text": [
      "\u001b[33mcustomer_proxy_agent\u001b[0m (to Onboarding Personal Information Agent):\n",
      "\n",
      "New York\n",
      "\n",
      "--------------------------------------------------------------------------------\n",
      "\u001b[33mOnboarding Personal Information Agent\u001b[0m (to customer_proxy_agent):\n",
      "\n",
      "Great! Could you please provide me with your name?\n",
      "\n",
      "--------------------------------------------------------------------------------\n"
     ]
    },
    {
     "name": "stdin",
     "output_type": "stream",
     "text": [
      "Provide feedback to Onboarding Personal Information Agent. Press enter to skip and use auto-reply, or type 'exit' to end the conversation:  Sam\n"
     ]
    },
    {
     "name": "stdout",
     "output_type": "stream",
     "text": [
      "\u001b[33mcustomer_proxy_agent\u001b[0m (to Onboarding Personal Information Agent):\n",
      "\n",
      "Sam\n",
      "\n",
      "--------------------------------------------------------------------------------\n",
      "\u001b[34m\n",
      "********************************************************************************\u001b[0m\n",
      "\u001b[34mStarting a new chat....\u001b[0m\n",
      "\u001b[34m\n",
      "********************************************************************************\u001b[0m\n",
      "\u001b[33mOnboarding Topic preference Agent\u001b[0m (to customer_proxy_agent):\n",
      "\n",
      "Great! Could you tell me what topics you are interested in reading about?\n",
      "Context: \n",
      "```json\n",
      "{\n",
      "  \"name\": \"Sam\",\n",
      "  \"location\": \"New York\"\n",
      "}\n",
      "```\n",
      "\n",
      "--------------------------------------------------------------------------------\n"
     ]
    },
    {
     "name": "stdin",
     "output_type": "stream",
     "text": [
      "Provide feedback to Onboarding Topic preference Agent. Press enter to skip and use auto-reply, or type 'exit' to end the conversation:  dog\n"
     ]
    },
    {
     "name": "stdout",
     "output_type": "stream",
     "text": [
      "\u001b[33mcustomer_proxy_agent\u001b[0m (to Onboarding Topic preference Agent):\n",
      "\n",
      "dog\n",
      "\n",
      "--------------------------------------------------------------------------------\n",
      "\u001b[34m\n",
      "********************************************************************************\u001b[0m\n",
      "\u001b[34mStarting a new chat....\u001b[0m\n",
      "\u001b[34m\n",
      "********************************************************************************\u001b[0m\n",
      "\u001b[33mcustomer_proxy_agent\u001b[0m (to Customer Engagement Agent):\n",
      "\n",
      "Let's find something fun to read.\n",
      "Context: \n",
      "```json\n",
      "{\n",
      "  \"name\": \"Sam\",\n",
      "  \"location\": \"New York\"\n",
      "}\n",
      "```\n",
      "Sam is interested in reading about various topics.\n",
      "\n",
      "--------------------------------------------------------------------------------\n",
      "\u001b[33mCustomer Engagement Agent\u001b[0m (to customer_proxy_agent):\n",
      "\n",
      "Hey Sam! 🌟 Since you're in the bustling city of New York and have varied interests, let's dive into some fun facts and jokes about the Big Apple to bring a smile to your day!\n",
      "\n",
      "**Fun Facts about New York:**\n",
      "1. **The Subway System:** Did you know that New York's subway is one of the largest and oldest in the world? It has 472 stations, more than any other subway system on the planet!\n",
      "2. **The Statue of Liberty's Secret:** The statue was a gift from France in 1886, but not many know that it was originally a dull brown color. The green patina we see today was caused by oxidation!\n",
      "3. **Pizza Everywhere:** New York City is home to over 1,600 pizzerias! That's enough slices for everyone to have a New York pizza at least once a day for a year!\n",
      "\n",
      "**Joke Time!**\n",
      "Why did the scarecrow win an award in New York?\n",
      "Because he was outstanding in his field! 🌾😂\n",
      "\n",
      "**Interesting Story:**\n",
      "There's a legendary tale about the \"Great Blizzard of 1888.\" It dumped around 40 inches of snow on New York City in just two days! People were trapped in their homes, and transportation was paralyzed, but it led to the creation of innovative snow removal techniques that shaped our modern city planning!\n",
      "\n",
      "So what do you think? Want to dive deeper into one of those topics, or do you prefer something else? 😄\n",
      "\n",
      "--------------------------------------------------------------------------------\n"
     ]
    }
   ],
   "source": [
    "from autogen import initiate_chats\n",
    "\n",
    "chat_results = initiate_chats(chats)"
   ]
  },
  {
   "cell_type": "code",
   "execution_count": 20,
   "id": "cd15ef56-362a-4a40-9bfa-90c445061e26",
   "metadata": {},
   "outputs": [
    {
     "name": "stdout",
     "output_type": "stream",
     "text": [
      "```json\n",
      "{\n",
      "  \"name\": \"Sam\",\n",
      "  \"location\": \"Boston\"\n",
      "}\n",
      "```\n",
      "\n",
      "\n",
      "The user named Sam is interested in reading topics related to their location in Boston.\n",
      "\n",
      "\n",
      "Sam is interested in reading about Boston's history and culture, including topics like the Boston Tea Party, Boston Common, local innovations, and Fenway Park. Fun facts and a joke related to the city were also shared.\n",
      "\n",
      "\n"
     ]
    }
   ],
   "source": [
    "for chat_result in chat_results:\n",
    "    print(chat_result.summary)\n",
    "    print(\"\\n\")"
   ]
  },
  {
   "cell_type": "code",
   "execution_count": 21,
   "id": "d3cc1cc6-2296-41eb-9d6d-c2b3b5cf8d38",
   "metadata": {},
   "outputs": [
    {
     "name": "stdout",
     "output_type": "stream",
     "text": [
      "{'usage_including_cached_inference': {'total_cost': 0, 'gpt-4o-mini-2024-07-18': {'cost': 0, 'prompt_tokens': 170, 'completion_tokens': 29, 'total_tokens': 199}}, 'usage_excluding_cached_inference': {'total_cost': 0, 'gpt-4o-mini-2024-07-18': {'cost': 0, 'prompt_tokens': 170, 'completion_tokens': 29, 'total_tokens': 199}}}\n",
      "\n",
      "\n",
      "{'usage_including_cached_inference': {'total_cost': 0, 'gpt-4o-mini-2024-07-18': {'cost': 0, 'prompt_tokens': 70, 'completion_tokens': 16, 'total_tokens': 86}}, 'usage_excluding_cached_inference': {'total_cost': 0, 'gpt-4o-mini-2024-07-18': {'cost': 0, 'prompt_tokens': 70, 'completion_tokens': 16, 'total_tokens': 86}}}\n",
      "\n",
      "\n",
      "{'usage_including_cached_inference': {'total_cost': 0, 'gpt-4o-mini-2024-07-18': {'cost': 0, 'prompt_tokens': 565, 'completion_tokens': 410, 'total_tokens': 975}}, 'usage_excluding_cached_inference': {'total_cost': 0, 'gpt-4o-mini-2024-07-18': {'cost': 0, 'prompt_tokens': 565, 'completion_tokens': 410, 'total_tokens': 975}}}\n",
      "\n",
      "\n"
     ]
    }
   ],
   "source": [
    "for chat_result in chat_results:\n",
    "    print(chat_result.cost)\n",
    "    print(\"\\n\")"
   ]
  },
  {
   "cell_type": "code",
   "execution_count": null,
   "id": "bf6aef22-a0e6-4b55-8af4-63a16b2a19e3",
   "metadata": {},
   "outputs": [],
   "source": []
  }
 ],
 "metadata": {
  "kernelspec": {
   "display_name": "Python 3 (ipykernel)",
   "language": "python",
   "name": "python3"
  },
  "language_info": {
   "codemirror_mode": {
    "name": "ipython",
    "version": 3
   },
   "file_extension": ".py",
   "mimetype": "text/x-python",
   "name": "python",
   "nbconvert_exporter": "python",
   "pygments_lexer": "ipython3",
   "version": "3.11.0"
  }
 },
 "nbformat": 4,
 "nbformat_minor": 5
}
